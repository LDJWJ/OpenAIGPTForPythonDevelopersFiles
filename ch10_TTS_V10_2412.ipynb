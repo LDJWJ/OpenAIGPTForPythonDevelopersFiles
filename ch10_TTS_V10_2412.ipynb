{
  "nbformat": 4,
  "nbformat_minor": 0,
  "metadata": {
    "colab": {
      "provenance": []
    },
    "kernelspec": {
      "name": "python3",
      "display_name": "Python 3"
    },
    "language_info": {
      "name": "python"
    }
  },
  "cells": [
    {
      "cell_type": "markdown",
      "source": [
        "## CHAPTER 10. 오픈AI TTS를 활용한 음성 변환"
      ],
      "metadata": {
        "id": "soIxLHpW2uZR"
      }
    },
    {
      "cell_type": "markdown",
      "source": [
        "### 목차\n",
        "- 10.1 오픈 AI TTS 소개\n",
        "- 10.2 오픈 AI TTS 사용 방법"
      ],
      "metadata": {
        "id": "R2xFiRV-2xso"
      }
    },
    {
      "cell_type": "markdown",
      "source": [
        "### 기본 환경 설정\n",
        "### chatgpt.env 환경파일 준비\n",
        " * 일반적으로 환경 변수는 .env 파일에 저장되지만, 구글 코랩 사용자의 편의를 위해 이 책에서는 chatgpt.env를 사용합니다.\n",
        " * 실제 개발 환경에서는 보통 .env를 사용하니, 이 점을 기억해 두세요.\n",
        "\n",
        "\n",
        " ### 사전 준비\n",
        " * 구글 코랩 환경은 일정 시간이후에 초기화가 되기 때문에 두가지 작업을 매번 수행해야 함.\n",
        "   * chatgpt.env 파일 생성이 필요.\n",
        "     * 준비된 chatgpt.env를 내용을 변경하여 업로드 하거나 또는 API_KEY와 ORG_ID를 확인하여 생성한다.\n",
        "   * pip install openai 설치\n",
        "    * 라이브러리 불일치로 인한 에러 발생시, 추가 라이브러리 설치 필요.\n",
        "    * 에러 : TypeError: Client.__init__() got an unexpected keyword argument 'proxies'"
      ],
      "metadata": {
        "id": "r7paNRzhTfj7"
      }
    },
    {
      "cell_type": "code",
      "source": [
        "# 폴더 생성\n",
        "!mkdir -p src/data/tts\n",
        "\n",
        "!echo \"안녕 네오 – 매트릭스에 오신 것을 환영합니다.\" > src/data/tts/speech_ko.txt\n",
        "!cat src/data/tts/speech_ko.txt"
      ],
      "metadata": {
        "colab": {
          "base_uri": "https://localhost:8080/"
        },
        "id": "gRYoFSeYTpnD",
        "outputId": "1eb69e66-42e6-4a0e-8ebd-9e1eae9800e4"
      },
      "execution_count": null,
      "outputs": [
        {
          "output_type": "stream",
          "name": "stdout",
          "text": [
            "안녕 네오 – 매트릭스에 오신 것을 환영합니다.\n"
          ]
        }
      ]
    },
    {
      "cell_type": "code",
      "source": [
        "import os\n",
        "from openai import OpenAI\n",
        "\n",
        "# OpenAI API 키 설정 및 초기화\n",
        "def init_api():\n",
        "    with open(\"chatgpt.env\") as env:\n",
        "       for line in env:\n",
        "           key, value = line.strip().split(\"=\")\n",
        "           os.environ[key] = value\n",
        "\n",
        "init_api()\n",
        "client = OpenAI(api_key  = os.environ.get(\"API_KEY\"))\n",
        "\n",
        "print(client)\n"
      ],
      "metadata": {
        "colab": {
          "base_uri": "https://localhost:8080/"
        },
        "id": "lJDJbRr0VP37",
        "outputId": "c3745ed6-b9b6-45f8-b574-360b3d7c18fa"
      },
      "execution_count": null,
      "outputs": [
        {
          "output_type": "stream",
          "name": "stdout",
          "text": [
            "<openai.OpenAI object at 0x7cbfb98bec50>\n"
          ]
        }
      ]
    },
    {
      "cell_type": "code",
      "source": [
        "# tts.py\n",
        "\n",
        "import os\n",
        "\n",
        "# 텍스트 파일의 경로 정의\n",
        "text_file_path = os.path.abspath(\n",
        "    \"src/data/tts/speech_ko.txt\"  # 텍스트 파일의 경로를 설정합니다.\n",
        ")\n",
        "\n",
        "# 오디오 파일의 경로 정의\n",
        "audio_file_path = os.path.abspath(\n",
        "    \"src/data/tts/speech_ko.mp3\"  # 오디오 파일의 경로를 설정합니다.\n",
        ")\n",
        "\n",
        "# 파일에서 텍스트 읽기\n",
        "with open(text_file_path, 'r') as file:\n",
        "    text = file.read()  # 파일의 내용을 읽어 텍스트 변수에 저장합니다.\n",
        "\n",
        "# 음성 모델 및 캐릭터 정의\n",
        "voice_model = \"tts-1\"  # 사용하려는 음성 모델을 정의합니다.\n",
        "voice_character = \"alloy\"  # 사용할 음성 캐릭터를 정의합니다.\n",
        "\n",
        "# 텍스트를 음성으로 변환하기\n",
        "response = client.audio.speech.create(\n",
        "    model=voice_model,\n",
        "    voice=voice_character,\n",
        "    input=text  # 입력 텍스트를 음성으로 변환합니다.\n",
        ")\n",
        "\n",
        "# 오디오 파일로 저장하기\n",
        "response.stream_to_file(audio_file_path)  # 변환된 음성을 파일로 저장합니다.\n",
        "print(f\"오디오가 {audio_file_path}에 저장되었습니다.\")  # 저장된 오디오 파일 경로를 출력합니다.\n"
      ],
      "metadata": {
        "colab": {
          "base_uri": "https://localhost:8080/"
        },
        "id": "eDjf9zeXU4SQ",
        "outputId": "7e4ae3e6-23fc-4c0b-adcf-9c0dc5e08fcb"
      },
      "execution_count": null,
      "outputs": [
        {
          "output_type": "stream",
          "name": "stdout",
          "text": [
            "오디오가 /content/src/data/tts/speech_ko.mp3에 저장되었습니다.\n"
          ]
        },
        {
          "output_type": "stream",
          "name": "stderr",
          "text": [
            "<ipython-input-5-9319f4720a86>:31: DeprecationWarning: Due to a bug, this method doesn't actually stream the response content, `.with_streaming_response.method()` should be used instead\n",
            "  response.stream_to_file(audio_file_path)  # 변환된 음성을 파일로 저장합니다.\n"
          ]
        }
      ]
    },
    {
      "cell_type": "code",
      "source": [
        "# tts_all.py\n",
        "# 구글 코랩이 아닌 .py 파일 작성 후, 실행할 때는 인증 부분을 추가해 주세요.\n",
        "\n",
        "import os\n",
        "\n",
        "# 텍스트 파일의 경로 정의\n",
        "text_file_path = os.path.abspath(\n",
        "    \"src/data/tts/speech_ko.txt\"  # 텍스트 파일의 경로를 설정합니다.\n",
        ")\n",
        "\n",
        "# 파일에서 텍스트 읽기\n",
        "with open(text_file_path, 'r') as file:\n",
        "    text = file.read()  # 파일의 내용을 읽어 텍스트 변수에 저장합니다.\n",
        "\n",
        "# 음성 모델 및 캐릭터 정의\n",
        "voice_model = \"tts-1\"  # 사용하려는 음성 모델을 정의합니다.\n",
        "voice_characters = [  # 사용 가능한 음성 캐릭터 목록입니다.\n",
        "    \"alloy\",\n",
        "    \"echo\",\n",
        "    \"fable\",\n",
        "    \"onyx\",\n",
        "    \"nova\",\n",
        "    \"shimmer\"\n",
        "]\n",
        "\n",
        "# 각 음성 캐릭터에 대해 텍스트를 음성으로 변환\n",
        "for voice_character in voice_characters:\n",
        "    # 오디오 파일의 경로 정의\n",
        "    audio_file_path = os.path.abspath(\n",
        "        \"src/data/tts/speech_\" + voice_character + \"_ko.mp3\"  # 각 캐릭터에 맞는 파일 이름을 설정합니다.\n",
        "    )\n",
        "\n",
        "    # 텍스트를 음성으로 변환\n",
        "    response = client.audio.speech.create(\n",
        "        model=voice_model,\n",
        "        voice=voice_character,\n",
        "        input=text  # 입력 텍스트를 음성으로 변환합니다.\n",
        "    )\n",
        "\n",
        "    # 오디오 파일로 저장하기\n",
        "    response.stream_to_file(audio_file_path)  # 변환된 음성을 파일로 저장합니다.\n",
        "    print(f\"오디오가 {audio_file_path}에 저장되었습니다.\")  # 저장된 오디오 파일 경로를 출력합니다."
      ],
      "metadata": {
        "colab": {
          "base_uri": "https://localhost:8080/"
        },
        "id": "S9Aj66lLVOJt",
        "outputId": "d4d7c9bb-1a31-49ab-a28c-b75d9e71544b"
      },
      "execution_count": null,
      "outputs": [
        {
          "output_type": "stream",
          "name": "stderr",
          "text": [
            "<ipython-input-6-997dac70108d>:41: DeprecationWarning: Due to a bug, this method doesn't actually stream the response content, `.with_streaming_response.method()` should be used instead\n",
            "  response.stream_to_file(audio_file_path)  # 변환된 음성을 파일로 저장합니다.\n"
          ]
        },
        {
          "output_type": "stream",
          "name": "stdout",
          "text": [
            "오디오가 /content/src/data/tts/speech_alloy_ko.mp3에 저장되었습니다.\n",
            "오디오가 /content/src/data/tts/speech_echo_ko.mp3에 저장되었습니다.\n",
            "오디오가 /content/src/data/tts/speech_fable_ko.mp3에 저장되었습니다.\n",
            "오디오가 /content/src/data/tts/speech_onyx_ko.mp3에 저장되었습니다.\n",
            "오디오가 /content/src/data/tts/speech_nova_ko.mp3에 저장되었습니다.\n",
            "오디오가 /content/src/data/tts/speech_shimmer_ko.mp3에 저장되었습니다.\n"
          ]
        }
      ]
    },
    {
      "cell_type": "code",
      "source": [],
      "metadata": {
        "id": "UNK6eMu-YkJN"
      },
      "execution_count": null,
      "outputs": []
    }
  ]
}