{
  "nbformat": 4,
  "nbformat_minor": 0,
  "metadata": {
    "colab": {
      "provenance": []
    },
    "kernelspec": {
      "name": "python3",
      "display_name": "Python 3"
    },
    "language_info": {
      "name": "python"
    }
  },
  "cells": [
    {
      "cell_type": "markdown",
      "source": [
        "### 부록 F. 오토젠을 활용한 AI 에이전트 이해하기"
      ],
      "metadata": {
        "id": "3H8oKPX5QGLY"
      }
    },
    {
      "cell_type": "markdown",
      "source": [
        "### 오토젠이란?\n",
        " * 오토젠은 마이크로소프트에서 개발한 AI 에이전트 시스템\n",
        " * 여러 개의 인공지능 에이전트를 동시에 생성하고 관리할 수 있는 강력한 도구입니다.\n",
        " * 각 에이전트는 특정 작업을 수행하며 여러 에이전트를 활용하면 동시에 여러 작업을 효율적으로 처리가능"
      ],
      "metadata": {
        "id": "v1oeS--nQWZD"
      }
    },
    {
      "cell_type": "code",
      "source": [
        "!pip install autogen-agentchat~=0.2\n",
        "!pip install pyautogen"
      ],
      "metadata": {
        "colab": {
          "base_uri": "https://localhost:8080/"
        },
        "id": "2aR5b4KwQaWU",
        "outputId": "612d00de-8890-434f-fc26-084cf6388ae2"
      },
      "execution_count": 7,
      "outputs": [
        {
          "output_type": "stream",
          "name": "stdout",
          "text": [
            "Requirement already satisfied: autogen-agentchat~=0.2 in /usr/local/lib/python3.12/dist-packages (0.7.4)\n",
            "Requirement already satisfied: autogen-core==0.7.4 in /usr/local/lib/python3.12/dist-packages (from autogen-agentchat~=0.2) (0.7.4)\n",
            "Requirement already satisfied: jsonref~=1.1.0 in /usr/local/lib/python3.12/dist-packages (from autogen-core==0.7.4->autogen-agentchat~=0.2) (1.1.0)\n",
            "Requirement already satisfied: opentelemetry-api>=1.34.1 in /usr/local/lib/python3.12/dist-packages (from autogen-core==0.7.4->autogen-agentchat~=0.2) (1.37.0)\n",
            "Requirement already satisfied: pillow>=11.0.0 in /usr/local/lib/python3.12/dist-packages (from autogen-core==0.7.4->autogen-agentchat~=0.2) (11.3.0)\n",
            "Requirement already satisfied: protobuf~=5.29.3 in /usr/local/lib/python3.12/dist-packages (from autogen-core==0.7.4->autogen-agentchat~=0.2) (5.29.5)\n",
            "Requirement already satisfied: pydantic<3.0.0,>=2.10.0 in /usr/local/lib/python3.12/dist-packages (from autogen-core==0.7.4->autogen-agentchat~=0.2) (2.11.9)\n",
            "Requirement already satisfied: typing-extensions>=4.0.0 in /usr/local/lib/python3.12/dist-packages (from autogen-core==0.7.4->autogen-agentchat~=0.2) (4.15.0)\n",
            "Requirement already satisfied: importlib-metadata<8.8.0,>=6.0 in /usr/local/lib/python3.12/dist-packages (from opentelemetry-api>=1.34.1->autogen-core==0.7.4->autogen-agentchat~=0.2) (8.7.0)\n",
            "Requirement already satisfied: annotated-types>=0.6.0 in /usr/local/lib/python3.12/dist-packages (from pydantic<3.0.0,>=2.10.0->autogen-core==0.7.4->autogen-agentchat~=0.2) (0.7.0)\n",
            "Requirement already satisfied: pydantic-core==2.33.2 in /usr/local/lib/python3.12/dist-packages (from pydantic<3.0.0,>=2.10.0->autogen-core==0.7.4->autogen-agentchat~=0.2) (2.33.2)\n",
            "Requirement already satisfied: typing-inspection>=0.4.0 in /usr/local/lib/python3.12/dist-packages (from pydantic<3.0.0,>=2.10.0->autogen-core==0.7.4->autogen-agentchat~=0.2) (0.4.1)\n",
            "Requirement already satisfied: zipp>=3.20 in /usr/local/lib/python3.12/dist-packages (from importlib-metadata<8.8.0,>=6.0->opentelemetry-api>=1.34.1->autogen-core==0.7.4->autogen-agentchat~=0.2) (3.23.0)\n",
            "Requirement already satisfied: pyautogen in /usr/local/lib/python3.12/dist-packages (0.10.0)\n",
            "Requirement already satisfied: autogen-agentchat>=0.6.4 in /usr/local/lib/python3.12/dist-packages (from pyautogen) (0.7.4)\n",
            "Requirement already satisfied: autogen-core==0.7.4 in /usr/local/lib/python3.12/dist-packages (from autogen-agentchat>=0.6.4->pyautogen) (0.7.4)\n",
            "Requirement already satisfied: jsonref~=1.1.0 in /usr/local/lib/python3.12/dist-packages (from autogen-core==0.7.4->autogen-agentchat>=0.6.4->pyautogen) (1.1.0)\n",
            "Requirement already satisfied: opentelemetry-api>=1.34.1 in /usr/local/lib/python3.12/dist-packages (from autogen-core==0.7.4->autogen-agentchat>=0.6.4->pyautogen) (1.37.0)\n",
            "Requirement already satisfied: pillow>=11.0.0 in /usr/local/lib/python3.12/dist-packages (from autogen-core==0.7.4->autogen-agentchat>=0.6.4->pyautogen) (11.3.0)\n",
            "Requirement already satisfied: protobuf~=5.29.3 in /usr/local/lib/python3.12/dist-packages (from autogen-core==0.7.4->autogen-agentchat>=0.6.4->pyautogen) (5.29.5)\n",
            "Requirement already satisfied: pydantic<3.0.0,>=2.10.0 in /usr/local/lib/python3.12/dist-packages (from autogen-core==0.7.4->autogen-agentchat>=0.6.4->pyautogen) (2.11.9)\n",
            "Requirement already satisfied: typing-extensions>=4.0.0 in /usr/local/lib/python3.12/dist-packages (from autogen-core==0.7.4->autogen-agentchat>=0.6.4->pyautogen) (4.15.0)\n",
            "Requirement already satisfied: importlib-metadata<8.8.0,>=6.0 in /usr/local/lib/python3.12/dist-packages (from opentelemetry-api>=1.34.1->autogen-core==0.7.4->autogen-agentchat>=0.6.4->pyautogen) (8.7.0)\n",
            "Requirement already satisfied: annotated-types>=0.6.0 in /usr/local/lib/python3.12/dist-packages (from pydantic<3.0.0,>=2.10.0->autogen-core==0.7.4->autogen-agentchat>=0.6.4->pyautogen) (0.7.0)\n",
            "Requirement already satisfied: pydantic-core==2.33.2 in /usr/local/lib/python3.12/dist-packages (from pydantic<3.0.0,>=2.10.0->autogen-core==0.7.4->autogen-agentchat>=0.6.4->pyautogen) (2.33.2)\n",
            "Requirement already satisfied: typing-inspection>=0.4.0 in /usr/local/lib/python3.12/dist-packages (from pydantic<3.0.0,>=2.10.0->autogen-core==0.7.4->autogen-agentchat>=0.6.4->pyautogen) (0.4.1)\n",
            "Requirement already satisfied: zipp>=3.20 in /usr/local/lib/python3.12/dist-packages (from importlib-metadata<8.8.0,>=6.0->opentelemetry-api>=1.34.1->autogen-core==0.7.4->autogen-agentchat>=0.6.4->pyautogen) (3.23.0)\n",
            "Collecting autogen\n",
            "  Downloading autogen-0.9.9-py3-none-any.whl.metadata (24 kB)\n",
            "Collecting ag2==0.9.9 (from autogen)\n",
            "  Downloading ag2-0.9.9-py3-none-any.whl.metadata (36 kB)\n",
            "Requirement already satisfied: anyio<5.0.0,>=3.0.0 in /usr/local/lib/python3.12/dist-packages (from ag2==0.9.9->autogen) (4.10.0)\n",
            "Collecting asyncer==0.0.8 (from ag2==0.9.9->autogen)\n",
            "  Downloading asyncer-0.0.8-py3-none-any.whl.metadata (6.7 kB)\n",
            "Collecting diskcache (from ag2==0.9.9->autogen)\n",
            "  Downloading diskcache-5.6.3-py3-none-any.whl.metadata (20 kB)\n",
            "Collecting docker (from ag2==0.9.9->autogen)\n",
            "  Downloading docker-7.1.0-py3-none-any.whl.metadata (3.8 kB)\n",
            "Requirement already satisfied: httpx<1,>=0.28.1 in /usr/local/lib/python3.12/dist-packages (from ag2==0.9.9->autogen) (0.28.1)\n",
            "Requirement already satisfied: packaging in /usr/local/lib/python3.12/dist-packages (from ag2==0.9.9->autogen) (25.0)\n",
            "Requirement already satisfied: pydantic<3,>=2.6.1 in /usr/local/lib/python3.12/dist-packages (from ag2==0.9.9->autogen) (2.11.9)\n",
            "Requirement already satisfied: python-dotenv in /usr/local/lib/python3.12/dist-packages (from ag2==0.9.9->autogen) (1.1.1)\n",
            "Requirement already satisfied: termcolor in /usr/local/lib/python3.12/dist-packages (from ag2==0.9.9->autogen) (3.1.0)\n",
            "Requirement already satisfied: tiktoken in /usr/local/lib/python3.12/dist-packages (from ag2==0.9.9->autogen) (0.11.0)\n",
            "Requirement already satisfied: idna>=2.8 in /usr/local/lib/python3.12/dist-packages (from anyio<5.0.0,>=3.0.0->ag2==0.9.9->autogen) (3.10)\n",
            "Requirement already satisfied: sniffio>=1.1 in /usr/local/lib/python3.12/dist-packages (from anyio<5.0.0,>=3.0.0->ag2==0.9.9->autogen) (1.3.1)\n",
            "Requirement already satisfied: typing_extensions>=4.5 in /usr/local/lib/python3.12/dist-packages (from anyio<5.0.0,>=3.0.0->ag2==0.9.9->autogen) (4.15.0)\n",
            "Requirement already satisfied: certifi in /usr/local/lib/python3.12/dist-packages (from httpx<1,>=0.28.1->ag2==0.9.9->autogen) (2025.8.3)\n",
            "Requirement already satisfied: httpcore==1.* in /usr/local/lib/python3.12/dist-packages (from httpx<1,>=0.28.1->ag2==0.9.9->autogen) (1.0.9)\n",
            "Requirement already satisfied: h11>=0.16 in /usr/local/lib/python3.12/dist-packages (from httpcore==1.*->httpx<1,>=0.28.1->ag2==0.9.9->autogen) (0.16.0)\n",
            "Requirement already satisfied: annotated-types>=0.6.0 in /usr/local/lib/python3.12/dist-packages (from pydantic<3,>=2.6.1->ag2==0.9.9->autogen) (0.7.0)\n",
            "Requirement already satisfied: pydantic-core==2.33.2 in /usr/local/lib/python3.12/dist-packages (from pydantic<3,>=2.6.1->ag2==0.9.9->autogen) (2.33.2)\n",
            "Requirement already satisfied: typing-inspection>=0.4.0 in /usr/local/lib/python3.12/dist-packages (from pydantic<3,>=2.6.1->ag2==0.9.9->autogen) (0.4.1)\n",
            "Requirement already satisfied: requests>=2.26.0 in /usr/local/lib/python3.12/dist-packages (from docker->ag2==0.9.9->autogen) (2.32.4)\n",
            "Requirement already satisfied: urllib3>=1.26.0 in /usr/local/lib/python3.12/dist-packages (from docker->ag2==0.9.9->autogen) (2.5.0)\n",
            "Requirement already satisfied: regex>=2022.1.18 in /usr/local/lib/python3.12/dist-packages (from tiktoken->ag2==0.9.9->autogen) (2024.11.6)\n",
            "Requirement already satisfied: charset_normalizer<4,>=2 in /usr/local/lib/python3.12/dist-packages (from requests>=2.26.0->docker->ag2==0.9.9->autogen) (3.4.3)\n",
            "Downloading autogen-0.9.9-py3-none-any.whl (13 kB)\n",
            "Downloading ag2-0.9.9-py3-none-any.whl (833 kB)\n",
            "\u001b[2K   \u001b[90m━━━━━━━━━━━━━━━━━━━━━━━━━━━━━━━━━━━━━━━━\u001b[0m \u001b[32m834.0/834.0 kB\u001b[0m \u001b[31m14.6 MB/s\u001b[0m eta \u001b[36m0:00:00\u001b[0m\n",
            "\u001b[?25hDownloading asyncer-0.0.8-py3-none-any.whl (9.2 kB)\n",
            "Downloading diskcache-5.6.3-py3-none-any.whl (45 kB)\n",
            "\u001b[2K   \u001b[90m━━━━━━━━━━━━━━━━━━━━━━━━━━━━━━━━━━━━━━━━\u001b[0m \u001b[32m45.5/45.5 kB\u001b[0m \u001b[31m2.3 MB/s\u001b[0m eta \u001b[36m0:00:00\u001b[0m\n",
            "\u001b[?25hDownloading docker-7.1.0-py3-none-any.whl (147 kB)\n",
            "\u001b[2K   \u001b[90m━━━━━━━━━━━━━━━━━━━━━━━━━━━━━━━━━━━━━━━━\u001b[0m \u001b[32m147.8/147.8 kB\u001b[0m \u001b[31m9.1 MB/s\u001b[0m eta \u001b[36m0:00:00\u001b[0m\n",
            "\u001b[?25hInstalling collected packages: diskcache, docker, asyncer, ag2, autogen\n",
            "Successfully installed ag2-0.9.9 asyncer-0.0.8 autogen-0.9.9 diskcache-5.6.3 docker-7.1.0\n"
          ]
        }
      ]
    },
    {
      "cell_type": "code",
      "source": [
        "!pip install autogen"
      ],
      "metadata": {
        "id": "ySTN9ATrHSTT",
        "outputId": "95c15d11-c079-4bf9-b78d-17c20b3f0d8e",
        "colab": {
          "base_uri": "https://localhost:8080/"
        }
      },
      "execution_count": 8,
      "outputs": [
        {
          "output_type": "stream",
          "name": "stdout",
          "text": [
            "Requirement already satisfied: autogen in /usr/local/lib/python3.12/dist-packages (0.9.9)\n",
            "Requirement already satisfied: ag2==0.9.9 in /usr/local/lib/python3.12/dist-packages (from autogen) (0.9.9)\n",
            "Requirement already satisfied: anyio<5.0.0,>=3.0.0 in /usr/local/lib/python3.12/dist-packages (from ag2==0.9.9->autogen) (4.10.0)\n",
            "Requirement already satisfied: asyncer==0.0.8 in /usr/local/lib/python3.12/dist-packages (from ag2==0.9.9->autogen) (0.0.8)\n",
            "Requirement already satisfied: diskcache in /usr/local/lib/python3.12/dist-packages (from ag2==0.9.9->autogen) (5.6.3)\n",
            "Requirement already satisfied: docker in /usr/local/lib/python3.12/dist-packages (from ag2==0.9.9->autogen) (7.1.0)\n",
            "Requirement already satisfied: httpx<1,>=0.28.1 in /usr/local/lib/python3.12/dist-packages (from ag2==0.9.9->autogen) (0.28.1)\n",
            "Requirement already satisfied: packaging in /usr/local/lib/python3.12/dist-packages (from ag2==0.9.9->autogen) (25.0)\n",
            "Requirement already satisfied: pydantic<3,>=2.6.1 in /usr/local/lib/python3.12/dist-packages (from ag2==0.9.9->autogen) (2.11.9)\n",
            "Requirement already satisfied: python-dotenv in /usr/local/lib/python3.12/dist-packages (from ag2==0.9.9->autogen) (1.1.1)\n",
            "Requirement already satisfied: termcolor in /usr/local/lib/python3.12/dist-packages (from ag2==0.9.9->autogen) (3.1.0)\n",
            "Requirement already satisfied: tiktoken in /usr/local/lib/python3.12/dist-packages (from ag2==0.9.9->autogen) (0.11.0)\n",
            "Requirement already satisfied: idna>=2.8 in /usr/local/lib/python3.12/dist-packages (from anyio<5.0.0,>=3.0.0->ag2==0.9.9->autogen) (3.10)\n",
            "Requirement already satisfied: sniffio>=1.1 in /usr/local/lib/python3.12/dist-packages (from anyio<5.0.0,>=3.0.0->ag2==0.9.9->autogen) (1.3.1)\n",
            "Requirement already satisfied: typing_extensions>=4.5 in /usr/local/lib/python3.12/dist-packages (from anyio<5.0.0,>=3.0.0->ag2==0.9.9->autogen) (4.15.0)\n",
            "Requirement already satisfied: certifi in /usr/local/lib/python3.12/dist-packages (from httpx<1,>=0.28.1->ag2==0.9.9->autogen) (2025.8.3)\n",
            "Requirement already satisfied: httpcore==1.* in /usr/local/lib/python3.12/dist-packages (from httpx<1,>=0.28.1->ag2==0.9.9->autogen) (1.0.9)\n",
            "Requirement already satisfied: h11>=0.16 in /usr/local/lib/python3.12/dist-packages (from httpcore==1.*->httpx<1,>=0.28.1->ag2==0.9.9->autogen) (0.16.0)\n",
            "Requirement already satisfied: annotated-types>=0.6.0 in /usr/local/lib/python3.12/dist-packages (from pydantic<3,>=2.6.1->ag2==0.9.9->autogen) (0.7.0)\n",
            "Requirement already satisfied: pydantic-core==2.33.2 in /usr/local/lib/python3.12/dist-packages (from pydantic<3,>=2.6.1->ag2==0.9.9->autogen) (2.33.2)\n",
            "Requirement already satisfied: typing-inspection>=0.4.0 in /usr/local/lib/python3.12/dist-packages (from pydantic<3,>=2.6.1->ag2==0.9.9->autogen) (0.4.1)\n",
            "Requirement already satisfied: requests>=2.26.0 in /usr/local/lib/python3.12/dist-packages (from docker->ag2==0.9.9->autogen) (2.32.4)\n",
            "Requirement already satisfied: urllib3>=1.26.0 in /usr/local/lib/python3.12/dist-packages (from docker->ag2==0.9.9->autogen) (2.5.0)\n",
            "Requirement already satisfied: regex>=2022.1.18 in /usr/local/lib/python3.12/dist-packages (from tiktoken->ag2==0.9.9->autogen) (2024.11.6)\n",
            "Requirement already satisfied: charset_normalizer<4,>=2 in /usr/local/lib/python3.12/dist-packages (from requests>=2.26.0->docker->ag2==0.9.9->autogen) (3.4.3)\n"
          ]
        }
      ]
    },
    {
      "cell_type": "code",
      "source": [
        "!pip install openai"
      ],
      "metadata": {
        "colab": {
          "base_uri": "https://localhost:8080/"
        },
        "id": "QcL_VexmRHkc",
        "outputId": "91b9612a-6841-42ba-cf55-3b1606b0a1ea"
      },
      "execution_count": 9,
      "outputs": [
        {
          "output_type": "stream",
          "name": "stdout",
          "text": [
            "Requirement already satisfied: openai in /usr/local/lib/python3.12/dist-packages (1.108.0)\n",
            "Requirement already satisfied: anyio<5,>=3.5.0 in /usr/local/lib/python3.12/dist-packages (from openai) (4.10.0)\n",
            "Requirement already satisfied: distro<2,>=1.7.0 in /usr/local/lib/python3.12/dist-packages (from openai) (1.9.0)\n",
            "Requirement already satisfied: httpx<1,>=0.23.0 in /usr/local/lib/python3.12/dist-packages (from openai) (0.28.1)\n",
            "Requirement already satisfied: jiter<1,>=0.4.0 in /usr/local/lib/python3.12/dist-packages (from openai) (0.11.0)\n",
            "Requirement already satisfied: pydantic<3,>=1.9.0 in /usr/local/lib/python3.12/dist-packages (from openai) (2.11.9)\n",
            "Requirement already satisfied: sniffio in /usr/local/lib/python3.12/dist-packages (from openai) (1.3.1)\n",
            "Requirement already satisfied: tqdm>4 in /usr/local/lib/python3.12/dist-packages (from openai) (4.67.1)\n",
            "Requirement already satisfied: typing-extensions<5,>=4.11 in /usr/local/lib/python3.12/dist-packages (from openai) (4.15.0)\n",
            "Requirement already satisfied: idna>=2.8 in /usr/local/lib/python3.12/dist-packages (from anyio<5,>=3.5.0->openai) (3.10)\n",
            "Requirement already satisfied: certifi in /usr/local/lib/python3.12/dist-packages (from httpx<1,>=0.23.0->openai) (2025.8.3)\n",
            "Requirement already satisfied: httpcore==1.* in /usr/local/lib/python3.12/dist-packages (from httpx<1,>=0.23.0->openai) (1.0.9)\n",
            "Requirement already satisfied: h11>=0.16 in /usr/local/lib/python3.12/dist-packages (from httpcore==1.*->httpx<1,>=0.23.0->openai) (0.16.0)\n",
            "Requirement already satisfied: annotated-types>=0.6.0 in /usr/local/lib/python3.12/dist-packages (from pydantic<3,>=1.9.0->openai) (0.7.0)\n",
            "Requirement already satisfied: pydantic-core==2.33.2 in /usr/local/lib/python3.12/dist-packages (from pydantic<3,>=1.9.0->openai) (2.33.2)\n",
            "Requirement already satisfied: typing-inspection>=0.4.0 in /usr/local/lib/python3.12/dist-packages (from pydantic<3,>=1.9.0->openai) (0.4.1)\n"
          ]
        }
      ]
    },
    {
      "cell_type": "markdown",
      "source": [
        "### 한국을 주제로 대화하는 단일 에이전트 만들기"
      ],
      "metadata": {
        "id": "uXpm6PdRQmVk"
      }
    },
    {
      "cell_type": "code",
      "source": [
        "import os\n",
        "from autogen import AssistantAgent, UserProxyAgent\n",
        "from openai import OpenAI\n",
        "\n",
        "# 환경 변수에서 API 키 불러오기\n",
        "def init_api():\n",
        "    with open(\"chatgpt.env\") as env:\n",
        "        for line in env:\n",
        "            key, value = line.strip().split(\"=\")\n",
        "            os.environ[key] = value\n",
        "\n",
        "init_api()"
      ],
      "metadata": {
        "id": "2LTTqyf-RFoB"
      },
      "execution_count": 15,
      "outputs": []
    },
    {
      "cell_type": "code",
      "source": [
        "# 오픈AI API 키를 환경변수에서 가져오기\n",
        "OPENAI_APIKEY = os.environ.get(\"API_KEY\")\n",
        "print(OPENAI_APIKEY[:7])  # 정상적으로 불러오는지 확인\n",
        "\n",
        "# LLM 설정\n",
        "llm_config = {\n",
        "    \"config_list\": [\n",
        "        {\n",
        "            \"model\": \"gpt-4o-mini\",\n",
        "            \"api_key\": OPENAI_APIKEY  # 직접 설정된 API 키 사용\n",
        "        }\n",
        "    ]\n",
        "}\n",
        "\n",
        "# 에이전트 생성\n",
        "assistant = AssistantAgent(\"assistant\", llm_config=llm_config)\n",
        "user_proxy = UserProxyAgent(\"user_proxy\", code_execution_config=False)\n",
        "\n",
        "# 대화 시작\n",
        "user_proxy.initiate_chat(\n",
        "    assistant,\n",
        "    message=\"한국에 대해 이야기를 해 주렴.\"\n",
        ")"
      ],
      "metadata": {
        "colab": {
          "base_uri": "https://localhost:8080/"
        },
        "id": "4K6RwJfgQsY8",
        "outputId": "e262a170-3124-42b1-a148-97aadcdf21ff"
      },
      "execution_count": 17,
      "outputs": [
        {
          "output_type": "stream",
          "name": "stdout",
          "text": [
            "sk-proj\n",
            "user_proxy (to assistant):\n",
            "\n",
            "한국에 대해 이야기를 해 주렴.\n",
            "\n",
            "--------------------------------------------------------------------------------\n",
            "assistant (to user_proxy):\n",
            "\n",
            "한국은 동아시아에 위치한 국가로, 한반도에 자리 잡고 있습니다. 한국에는 남한(대한민국)과 북한(조선민주주의인민공화국)으로 나뉘어 있습니다. \n",
            "\n",
            "대한민국은 고도로 발전한 국가로, 경제, 기술, 문화 등 여러 분야에서 큰 성과를 이뤘습니다. 서울은 한국의 수도이자 문화, 경제, 정치의 중심지입니다. \n",
            "\n",
            "한국의 역사, 전통, 음식 그리고 K-팝과 같은 현대 문화는 세계적으로도 많은 관심을 받고 있습니다. 한국어는 한국의 공식 언어로, 한글이라는 독특한 문자 시스템을 가지고 있습니다.\n",
            "\n",
            "한국의 전통 음식으로는 김치, 불고기, 비빔밥 등 다양한 요리가 있으며, 이러한 음식은 건강한 식단으로도 잘 알려져 있습니다.\n",
            "\n",
            "또한, 한국은 아름다운 자연 풍경을 자랑하며, 사계절이 뚜렷하여 관광객들에게 다양한 경험을 제공합니다. \n",
            "\n",
            "이처럼 한국은 역사와 현대가 조화를 이루며 발전해온 나라입니다. 더 궁금한 점이 있으면 말씀해 주세요! \n",
            "\n",
            "TERMINATE\n",
            "\n",
            "--------------------------------------------------------------------------------\n",
            "Replying as user_proxy. Provide feedback to assistant. Press enter to skip and use auto-reply, or type 'exit' to end the conversation: exit\n",
            "\n",
            ">>>>>>>> TERMINATING RUN (7321a709-d085-458f-9df8-7aa94cdf8412): User requested to end the conversation\n"
          ]
        },
        {
          "output_type": "execute_result",
          "data": {
            "text/plain": [
              "ChatResult(chat_id=None, chat_history=[{'content': '한국에 대해 이야기를 해 주렴.', 'role': 'assistant', 'name': 'user_proxy'}, {'content': '한국은 동아시아에 위치한 국가로, 한반도에 자리 잡고 있습니다. 한국에는 남한(대한민국)과 북한(조선민주주의인민공화국)으로 나뉘어 있습니다. \\n\\n대한민국은 고도로 발전한 국가로, 경제, 기술, 문화 등 여러 분야에서 큰 성과를 이뤘습니다. 서울은 한국의 수도이자 문화, 경제, 정치의 중심지입니다. \\n\\n한국의 역사, 전통, 음식 그리고 K-팝과 같은 현대 문화는 세계적으로도 많은 관심을 받고 있습니다. 한국어는 한국의 공식 언어로, 한글이라는 독특한 문자 시스템을 가지고 있습니다.\\n\\n한국의 전통 음식으로는 김치, 불고기, 비빔밥 등 다양한 요리가 있으며, 이러한 음식은 건강한 식단으로도 잘 알려져 있습니다.\\n\\n또한, 한국은 아름다운 자연 풍경을 자랑하며, 사계절이 뚜렷하여 관광객들에게 다양한 경험을 제공합니다. \\n\\n이처럼 한국은 역사와 현대가 조화를 이루며 발전해온 나라입니다. 더 궁금한 점이 있으면 말씀해 주세요! \\n\\nTERMINATE', 'role': 'user', 'name': 'assistant'}], summary='한국은 동아시아에 위치한 국가로, 한반도에 자리 잡고 있습니다. 한국에는 남한(대한민국)과 북한(조선민주주의인민공화국)으로 나뉘어 있습니다. \\n\\n대한민국은 고도로 발전한 국가로, 경제, 기술, 문화 등 여러 분야에서 큰 성과를 이뤘습니다. 서울은 한국의 수도이자 문화, 경제, 정치의 중심지입니다. \\n\\n한국의 역사, 전통, 음식 그리고 K-팝과 같은 현대 문화는 세계적으로도 많은 관심을 받고 있습니다. 한국어는 한국의 공식 언어로, 한글이라는 독특한 문자 시스템을 가지고 있습니다.\\n\\n한국의 전통 음식으로는 김치, 불고기, 비빔밥 등 다양한 요리가 있으며, 이러한 음식은 건강한 식단으로도 잘 알려져 있습니다.\\n\\n또한, 한국은 아름다운 자연 풍경을 자랑하며, 사계절이 뚜렷하여 관광객들에게 다양한 경험을 제공합니다. \\n\\n이처럼 한국은 역사와 현대가 조화를 이루며 발전해온 나라입니다. 더 궁금한 점이 있으면 말씀해 주세요! \\n\\n', cost={'usage_including_cached_inference': {'total_cost': 0.00022304999999999997, 'gpt-4o-mini-2024-07-18': {'cost': 0.00022304999999999997, 'prompt_tokens': 475, 'completion_tokens': 253, 'total_tokens': 728}}, 'usage_excluding_cached_inference': {'total_cost': 0.00022304999999999997, 'gpt-4o-mini-2024-07-18': {'cost': 0.00022304999999999997, 'prompt_tokens': 475, 'completion_tokens': 253, 'total_tokens': 728}}}, human_input=['exit'])"
            ]
          },
          "metadata": {},
          "execution_count": 17
        }
      ]
    },
    {
      "cell_type": "markdown",
      "source": [
        "### 운동을 주제로 대화하는 멀티 에이전트 만들기"
      ],
      "metadata": {
        "id": "qbnN3AdGRYOk"
      }
    },
    {
      "cell_type": "code",
      "source": [
        "import os\n",
        "from autogen import ConversableAgent\n",
        "\n",
        "# 오픈AI API 키를 환경변수에서 불러오기\n",
        "OPENAI_APIKEY = os.environ.get(\"API_KEY\")\n",
        "\n",
        "# 피트니스 트레이너 에이전트 생성\n",
        "trainer = ConversableAgent(\n",
        "    \"trainer_rora\",\n",
        "    system_message=(\n",
        "        \"당신의 이름은 Alex이고, 당신은 근력 훈련, 심혈관 운동, \"\n",
        "        \"유연성 운동에 대한 전문 지식을 가진 피트니스 트레이너입니다.\"\n",
        "    ),\n",
        "    llm_config={\n",
        "        \"config_list\": [\n",
        "            {\n",
        "                \"model\": \"gpt-4o-mini\",\n",
        "                \"api_key\": OPENAI_APIKEY\n",
        "            }\n",
        "        ],\n",
        "        # 온도 설정은 별도로 처리\n",
        "        \"temperature\": 0.9\n",
        "    },\n",
        "    human_input_mode=\"NEVER\"  # 사람의 입력을 받지 않도록 설정\n",
        ")"
      ],
      "metadata": {
        "id": "p9E8mRQkSFyT"
      },
      "execution_count": 18,
      "outputs": []
    },
    {
      "cell_type": "code",
      "source": [
        "# 운동 의학 전문가 에이전트 생성\n",
        "doctor = ConversableAgent(\n",
        "    \"doctor_lee\",\n",
        "    system_message=(\n",
        "        \"당신의 이름은 Dr. Lee이고, 당신은 부상 예방, 재활, 신체 건강 \"\n",
        "        \"최적화에 특화된 운동 생리학자입니다.\"\n",
        "    ),\n",
        "    llm_config={\n",
        "        \"config_list\": [\n",
        "            {\n",
        "                \"model\": \"gpt-4o-mini\",\n",
        "                \"api_key\": OPENAI_APIKEY\n",
        "            }\n",
        "        ],\n",
        "        # 온도 설정은 별도로 처리\n",
        "        \"temperature\": 0.9\n",
        "    },\n",
        "    human_input_mode=\"NEVER\"  # 사람의 입력을 받지 않도록 설정\n",
        ")\n",
        "\n",
        "# 운동에 관한 대화를 시작\n",
        "result = trainer.initiate_chat(\n",
        "    doctor,\n",
        "    message=\"Dr. Lee, 오늘 운동을 시작하려는 사람에게 어떤 운동을 추천할까요?\",\n",
        "    max_turns=3\n",
        ")\n",
        "\n",
        "print(result)\n"
      ],
      "metadata": {
        "colab": {
          "base_uri": "https://localhost:8080/"
        },
        "id": "gDnIahfGRnS7",
        "outputId": "543f31fd-2c07-401b-e328-6f41e6185d35"
      },
      "execution_count": 19,
      "outputs": [
        {
          "output_type": "stream",
          "name": "stdout",
          "text": [
            "trainer_rora (to doctor_lee):\n",
            "\n",
            "Dr. Lee, 오늘 운동을 시작하려는 사람에게 어떤 운동을 추천할까요?\n",
            "\n",
            "--------------------------------------------------------------------------------\n",
            "doctor_lee (to trainer_rora):\n",
            "\n",
            "운동을 시작하려는 분에게는 다음과 같은 기본적인 운동을 추천드립니다:\n",
            "\n",
            "1. **걷기**: 가장 간단하면서도 효과적인 유산소 운동으로, 적당한 속도로 시작하여 점차 거리를 늘려가는 것이 좋습니다.\n",
            "\n",
            "2. **체중 운동**: 스쿼트, 푸시업, 플랭크와 같은 체중을 이용한 운동은 근력을 키우고 균형을 잡는 데 도움을 줍니다. 처음에는 적은 세트와 반복으로 시작하세요.\n",
            "\n",
            "3. **스트레칭**: 운동 전후에 스트레칭을 통해 유연성을 높이고 부상의 위험을 줄일 수 있습니다. 특히 큰 근육군을 대상으로 한 스트레칭을 포함하세요.\n",
            "\n",
            "4. **저항 훈련**: 덤벨이나 탄력 밴드를 이용한 저항 운동은 근력을 강화하고 대사율을 높이는 데 도움을 줍니다. 처음에는 가벼운 중량으로 시작하세요.\n",
            "\n",
            "5. **요가 또는 필라테스**: 유연성을 증가시키고 정신적 안정감을 주는 운동으로, 특히 초보자에게 좋은 선택입니다.\n",
            "\n",
            "운동은 개인의 체력 수준에 맞춰 점진적으로 강도를 높여가는 것이 중요합니다. 처음 시작할 때는 너무 무리하지 않도록 유의하고, 필요할 경우 전문가의 도움을 받는 것도 좋은 방법입니다.\n",
            "\n",
            "--------------------------------------------------------------------------------\n",
            "trainer_rora (to doctor_lee):\n",
            "\n",
            "운동을 시작하려는 분께는 다음과 같은 기초 운동을 추천합니다:\n",
            "\n",
            "1. **걷기**: 가장 간단하면서도 효과적인 유산소 운동입니다. 일정한 속도로 걷는 것부터 시작하여 점차 거리를 늘려가면 좋습니다.\n",
            "\n",
            "2. **체중 운동**: 스쿼트, 푸시업, 플랭크 등의 체중 운동은 근력을 키우고 균형을 개선하는 데 도움을 줍니다. 처음에는 적은 세트와 반복부터 시작하세요.\n",
            "\n",
            "3. **스트레칭**: 운동 전후에 근육을 늘려주는 스트레칭을 통해 유연성을 향상시키고 부상의 위험을 줄일 수 있습니다. 주요 근육 군을 대상으로 한 스트레칭을 포함하세요.\n",
            "\n",
            "4. **저항 훈련**: 덤벨이나 탄력 밴드를 이용한 저항 운동은 근력을 발달시키고 대사율을 높이는 데 효과적입니다. 초기에는 가벼운 중량으로 시작하는 것이 좋습니다.\n",
            "\n",
            "5. **요가 또는 필라테스**: 유연성을 높이고 정신적 안정감을 주는 운동으로, 초보자에게 적합한 선택입니다.\n",
            "\n",
            "운동은 개인의 체력 수준에 맞춰 점진적으로 강도를 높여가는 것이 중요합니다. 처음 시작할 때는 과도한 운동을 피하고, 필요하다면 전문가의 조언을 받는 것도 좋은 방법입니다.\n",
            "\n",
            "--------------------------------------------------------------------------------\n",
            "doctor_lee (to trainer_rora):\n",
            "\n",
            "운동을 시작하려는 분에게 좋은 기초 운동을 추천해주셨습니다. 이러한 운동들은 모두 부상 예방과 건강 증진에 매우 효과적입니다. 정확한 설명과 함께 단계적으로 진행하는 것이 중요하다는 점도 잘 강조해 주셨네요. 추가로 말씀드리자면, 개인의 목표와 체력 수준에 따라 운동을 조정하는 것이 중요합니다. 필요한 경우, 운동 계획을 세울 때 운동 생리학자의 도움을 받는 것도 좋은 방법입니다. 어떤 운동이든 꾸준히 하는 것이 가장 중요하니, 즐거운 마음으로 시작하시길 바랍니다!\n",
            "\n",
            "--------------------------------------------------------------------------------\n",
            "trainer_rora (to doctor_lee):\n",
            "\n",
            "정확히 말씀하셨습니다! 개인의 목표와 체력 수준에 따라 운동을 조정하는 것이 무엇보다 중요합니다. 각자의 신체 상태, 운동 경험, 그리고 원하는 결과에 따라 맞춤형 운동 계획을 세우는 것이 부상의 위험을 줄이고 더 나은 성과를 자아낼 수 있습니다. \n",
            "\n",
            "꾸준한 운동이 건강을 유지하고 증진하는 데 필수적이라는 점도 강조하고 싶습니다. 즐겁게 운동할 수 있는 방법을 찾아보세요. 친구와 함께 운동하거나, 좋아하는 음악을 들으면서 하는 것도 좋은 방법입니다. \n",
            "\n",
            "또한, 운동 중에는 몸의 신호를 잘 듣고, 필요하면 휴식을 취하는 것도 중요합니다. 꾸준한 습관이 형성되면 점점 더 많은 자기 발전을 경험할 수 있을 것입니다. 운동을 시작하는 모든 분들에게 긍정적인 경험이 되기를 바랍니다!\n",
            "\n",
            "--------------------------------------------------------------------------------\n",
            "doctor_lee (to trainer_rora):\n",
            "\n",
            "정확히 말씀하셨습니다! 각 개인의 목표와 상황에 맞춘 맞춤형 운동 계획이 정말 중요합니다. 운동은 단순한 과제가 아니라, 삶의 일부로 여겨져야 하며, 즐거움을 느끼는 것이 지속성을 높이는 데 결정적입니다. \n",
            "\n",
            "또한, 친구와 함께하거나 좋아하는 음악을 듣는 것처럼 운동이 더 즐거운 경험이 될 수 있도록 하는 방법을 찾는 것도 좋습니다. 사회적 지지와 긍정적인 환경이 운동을 지속하는 데 도움을 줄 수 있습니다.\n",
            "\n",
            "몸의 신호에 귀 기울이고, 필요할 때 적절한 휴식을 취하는 것도 매우 중요합니다. 이렇게 하면 부상의 위험을 줄이고, 장기적으로 건강한 운동 습관을 유지할 수 있습니다.\n",
            "\n",
            "모든 분들이 운동을 통해 긍정적인 변화를 경험할 수 있기를 바랍니다. 건강이 최우선이니, 안전하고 즐거운 운동을 이어가시길 응원합니다!\n",
            "\n",
            "--------------------------------------------------------------------------------\n",
            "\n",
            ">>>>>>>> TERMINATING RUN (57a1d724-f4b5-410c-a37f-ed8c7765c1c9): Maximum turns (3) reached\n",
            "ChatResult(chat_id=None, chat_history=[{'content': 'Dr. Lee, 오늘 운동을 시작하려는 사람에게 어떤 운동을 추천할까요?', 'role': 'assistant', 'name': 'trainer_rora'}, {'content': '운동을 시작하려는 분에게는 다음과 같은 기본적인 운동을 추천드립니다:\\n\\n1. **걷기**: 가장 간단하면서도 효과적인 유산소 운동으로, 적당한 속도로 시작하여 점차 거리를 늘려가는 것이 좋습니다.\\n\\n2. **체중 운동**: 스쿼트, 푸시업, 플랭크와 같은 체중을 이용한 운동은 근력을 키우고 균형을 잡는 데 도움을 줍니다. 처음에는 적은 세트와 반복으로 시작하세요.\\n\\n3. **스트레칭**: 운동 전후에 스트레칭을 통해 유연성을 높이고 부상의 위험을 줄일 수 있습니다. 특히 큰 근육군을 대상으로 한 스트레칭을 포함하세요.\\n\\n4. **저항 훈련**: 덤벨이나 탄력 밴드를 이용한 저항 운동은 근력을 강화하고 대사율을 높이는 데 도움을 줍니다. 처음에는 가벼운 중량으로 시작하세요.\\n\\n5. **요가 또는 필라테스**: 유연성을 증가시키고 정신적 안정감을 주는 운동으로, 특히 초보자에게 좋은 선택입니다.\\n\\n운동은 개인의 체력 수준에 맞춰 점진적으로 강도를 높여가는 것이 중요합니다. 처음 시작할 때는 너무 무리하지 않도록 유의하고, 필요할 경우 전문가의 도움을 받는 것도 좋은 방법입니다.', 'role': 'user', 'name': 'doctor_lee'}, {'content': '운동을 시작하려는 분께는 다음과 같은 기초 운동을 추천합니다:\\n\\n1. **걷기**: 가장 간단하면서도 효과적인 유산소 운동입니다. 일정한 속도로 걷는 것부터 시작하여 점차 거리를 늘려가면 좋습니다.\\n\\n2. **체중 운동**: 스쿼트, 푸시업, 플랭크 등의 체중 운동은 근력을 키우고 균형을 개선하는 데 도움을 줍니다. 처음에는 적은 세트와 반복부터 시작하세요.\\n\\n3. **스트레칭**: 운동 전후에 근육을 늘려주는 스트레칭을 통해 유연성을 향상시키고 부상의 위험을 줄일 수 있습니다. 주요 근육 군을 대상으로 한 스트레칭을 포함하세요.\\n\\n4. **저항 훈련**: 덤벨이나 탄력 밴드를 이용한 저항 운동은 근력을 발달시키고 대사율을 높이는 데 효과적입니다. 초기에는 가벼운 중량으로 시작하는 것이 좋습니다.\\n\\n5. **요가 또는 필라테스**: 유연성을 높이고 정신적 안정감을 주는 운동으로, 초보자에게 적합한 선택입니다.\\n\\n운동은 개인의 체력 수준에 맞춰 점진적으로 강도를 높여가는 것이 중요합니다. 처음 시작할 때는 과도한 운동을 피하고, 필요하다면 전문가의 조언을 받는 것도 좋은 방법입니다.', 'role': 'assistant', 'name': 'trainer_rora'}, {'content': '운동을 시작하려는 분에게 좋은 기초 운동을 추천해주셨습니다. 이러한 운동들은 모두 부상 예방과 건강 증진에 매우 효과적입니다. 정확한 설명과 함께 단계적으로 진행하는 것이 중요하다는 점도 잘 강조해 주셨네요. 추가로 말씀드리자면, 개인의 목표와 체력 수준에 따라 운동을 조정하는 것이 중요합니다. 필요한 경우, 운동 계획을 세울 때 운동 생리학자의 도움을 받는 것도 좋은 방법입니다. 어떤 운동이든 꾸준히 하는 것이 가장 중요하니, 즐거운 마음으로 시작하시길 바랍니다!', 'role': 'user', 'name': 'doctor_lee'}, {'content': '정확히 말씀하셨습니다! 개인의 목표와 체력 수준에 따라 운동을 조정하는 것이 무엇보다 중요합니다. 각자의 신체 상태, 운동 경험, 그리고 원하는 결과에 따라 맞춤형 운동 계획을 세우는 것이 부상의 위험을 줄이고 더 나은 성과를 자아낼 수 있습니다. \\n\\n꾸준한 운동이 건강을 유지하고 증진하는 데 필수적이라는 점도 강조하고 싶습니다. 즐겁게 운동할 수 있는 방법을 찾아보세요. 친구와 함께 운동하거나, 좋아하는 음악을 들으면서 하는 것도 좋은 방법입니다. \\n\\n또한, 운동 중에는 몸의 신호를 잘 듣고, 필요하면 휴식을 취하는 것도 중요합니다. 꾸준한 습관이 형성되면 점점 더 많은 자기 발전을 경험할 수 있을 것입니다. 운동을 시작하는 모든 분들에게 긍정적인 경험이 되기를 바랍니다!', 'role': 'assistant', 'name': 'trainer_rora'}, {'content': '정확히 말씀하셨습니다! 각 개인의 목표와 상황에 맞춘 맞춤형 운동 계획이 정말 중요합니다. 운동은 단순한 과제가 아니라, 삶의 일부로 여겨져야 하며, 즐거움을 느끼는 것이 지속성을 높이는 데 결정적입니다. \\n\\n또한, 친구와 함께하거나 좋아하는 음악을 듣는 것처럼 운동이 더 즐거운 경험이 될 수 있도록 하는 방법을 찾는 것도 좋습니다. 사회적 지지와 긍정적인 환경이 운동을 지속하는 데 도움을 줄 수 있습니다.\\n\\n몸의 신호에 귀 기울이고, 필요할 때 적절한 휴식을 취하는 것도 매우 중요합니다. 이렇게 하면 부상의 위험을 줄이고, 장기적으로 건강한 운동 습관을 유지할 수 있습니다.\\n\\n모든 분들이 운동을 통해 긍정적인 변화를 경험할 수 있기를 바랍니다. 건강이 최우선이니, 안전하고 즐거운 운동을 이어가시길 응원합니다!', 'role': 'user', 'name': 'doctor_lee'}], summary='정확히 말씀하셨습니다! 각 개인의 목표와 상황에 맞춘 맞춤형 운동 계획이 정말 중요합니다. 운동은 단순한 과제가 아니라, 삶의 일부로 여겨져야 하며, 즐거움을 느끼는 것이 지속성을 높이는 데 결정적입니다. \\n\\n또한, 친구와 함께하거나 좋아하는 음악을 듣는 것처럼 운동이 더 즐거운 경험이 될 수 있도록 하는 방법을 찾는 것도 좋습니다. 사회적 지지와 긍정적인 환경이 운동을 지속하는 데 도움을 줄 수 있습니다.\\n\\n몸의 신호에 귀 기울이고, 필요할 때 적절한 휴식을 취하는 것도 매우 중요합니다. 이렇게 하면 부상의 위험을 줄이고, 장기적으로 건강한 운동 습관을 유지할 수 있습니다.\\n\\n모든 분들이 운동을 통해 긍정적인 변화를 경험할 수 있기를 바랍니다. 건강이 최우선이니, 안전하고 즐거운 운동을 이어가시길 응원합니다!', cost={'usage_including_cached_inference': {'total_cost': 0.0011568, 'gpt-4o-mini-2024-07-18': {'cost': 0.0011568, 'prompt_tokens': 3068, 'completion_tokens': 1161, 'total_tokens': 4229}}, 'usage_excluding_cached_inference': {'total_cost': 0.0011568, 'gpt-4o-mini-2024-07-18': {'cost': 0.0011568, 'prompt_tokens': 3068, 'completion_tokens': 1161, 'total_tokens': 4229}}}, human_input=[])\n"
          ]
        }
      ]
    },
    {
      "cell_type": "markdown",
      "source": [
        "### 멀티 에이전트로 마케팅 전략 보고서 만들기"
      ],
      "metadata": {
        "id": "FNsp7h5YRw-c"
      }
    },
    {
      "cell_type": "code",
      "source": [
        "import autogen\n",
        "import os\n",
        "\n",
        "# 오픈AI API 키를 환경 변수에서 가져오기\n",
        "OPENAI_APIKEY = os.environ.get(\"API_KEY\")  # API_KEY -> OPENAI_APIKEY로 명시\n"
      ],
      "metadata": {
        "id": "Ok6u7etQTHqT"
      },
      "execution_count": 20,
      "outputs": []
    },
    {
      "cell_type": "code",
      "source": [
        "class MarketingAgentSystem:\n",
        "    def __init__(self):\n",
        "        # 오픈AI API 키 설정 (환경 변수 사용 권장)\n",
        "        self.config_list = [\n",
        "            {\n",
        "                \"model\": \"gpt-4o-mini\",\n",
        "                \"api_key\": OPENAI_APIKEY\n",
        "            }\n",
        "        ]\n",
        "\n",
        "        # LLM 설정\n",
        "        self.llm_config = {\n",
        "            \"config_list\": self.config_list,\n",
        "            \"temperature\": 0.7,\n",
        "        }\n",
        "\n",
        "        # 에이전트 초기화\n",
        "        self.market_researcher = autogen.AssistantAgent(\n",
        "            name=\"market_researcher\",\n",
        "            system_message=\"당신은 전문 시장 조사 전문가입니다. 제품에 대한 상세한 시장 조사 보고서를 작성하세요.\",\n",
        "            llm_config=self.llm_config\n",
        "        )\n",
        "\n",
        "        self.customer_segmentation = autogen.AssistantAgent(\n",
        "            name=\"customer_segmentation_expert\",\n",
        "            system_message=\"당신은 고객 세분화 전문가입니다. 시장 조사 결과를 바탕으로 고객층을 세분화하고 분석하세요.\",\n",
        "            llm_config=self.llm_config\n",
        "        )\n",
        "\n",
        "        self.marketing_strategist = autogen.AssistantAgent(\n",
        "            name=\"marketing_strategist\",\n",
        "            system_message=\"당신은 최고의 마케팅 전략 전문가입니다. 시장 조사와 고객 세분화 결과를 종합하여 마케팅 전략을 수립하세요.\",\n",
        "            llm_config=self.llm_config\n",
        "        )\n",
        "\n",
        "        self.user_proxy = autogen.UserProxyAgent(\n",
        "            name=\"user_proxy\",\n",
        "            human_input_mode=\"NEVER\",\n",
        "            max_consecutive_auto_reply=10\n",
        "        )\n",
        "\n",
        "    def generate_marketing_report(self, product_concept):\n",
        "        # 시장 조사 단계\n",
        "        self.user_proxy.initiate_chat(\n",
        "            self.market_researcher,\n",
        "            message=f\"{product_concept}에 대한 시장 조사 보고서를 작성해 주세요.\",\n",
        "            max_turns=1\n",
        "        )\n",
        "        market_research_result = self.market_researcher.last_message()['content']\n",
        "\n",
        "        # 고객 세분화 단계\n",
        "        self.user_proxy.initiate_chat(\n",
        "            self.customer_segmentation,\n",
        "            message=f\"다음 시장 조사 결과를 바탕으로 고객 세분화 보고서를 작성해 주세요: {market_research_result}\",\n",
        "            max_turns=1\n",
        "        )\n",
        "        customer_segmentation_result = self.customer_segmentation.last_message()['content']\n",
        "\n",
        "        # 마케팅 전략 수립 단계\n",
        "        self.user_proxy.initiate_chat(\n",
        "            self.marketing_strategist,\n",
        "            message=(\n",
        "                f\"다음 정보를 바탕으로 종합적인 마케팅 전략을 수립해 주세요:\\n\"\n",
        "                f\"시장 조사: {market_research_result}\\n\"\n",
        "                f\"고객 세분화: {customer_segmentation_result}\"\n",
        "            ),\n",
        "            max_turns=1\n",
        "        )\n",
        "        marketing_strategy_result = self.marketing_strategist.last_message()['content']\n",
        "\n",
        "        return {\n",
        "            \"product_concept\": product_concept,\n",
        "            \"market_research\": market_research_result,\n",
        "            \"customer_segmentation\": customer_segmentation_result,\n",
        "            \"marketing_strategy\": marketing_strategy_result\n",
        "        }\n",
        "\n",
        "\n",
        "def main():\n",
        "    product_concept = \"AI 기반 개인 맞춤형 건강 관리 웨어러블 디바이스\"\n",
        "    marketing_system = MarketingAgentSystem()\n",
        "    marketing_report = marketing_system.generate_marketing_report(product_concept)\n",
        "\n",
        "    print(\"미래 유망 아이템 마케팅 전략 보고서\")\n",
        "    print(\"\\n1. 제품 개념:\")\n",
        "    print(marketing_report['product_concept'])\n",
        "\n",
        "    print(\"\\n2. 시장 조사 결과:\")\n",
        "    print(marketing_report['market_research'])\n",
        "\n",
        "    print(\"\\n3. 고객 세분화:\")\n",
        "    print(marketing_report['customer_segmentation'])\n",
        "\n",
        "    print(\"\\n4. 마케팅 전략:\")\n",
        "    print(marketing_report['marketing_strategy'])\n",
        "\n",
        "\n",
        "if __name__ == \"__main__\":\n",
        "    main()\n"
      ],
      "metadata": {
        "colab": {
          "base_uri": "https://localhost:8080/"
        },
        "id": "a8NvTNeHS3NU",
        "outputId": "936addb1-e16a-4bf5-a92b-433c65f04d87"
      },
      "execution_count": null,
      "outputs": [
        {
          "output_type": "stream",
          "name": "stdout",
          "text": [
            "user_proxy (to market_researcher):\n",
            "\n",
            "AI 기반 개인 맞춤형 건강 관리 웨어러블 디바이스에 대한 시장 조사 보고서를 작성해 주세요.\n",
            "\n",
            "--------------------------------------------------------------------------------\n"
          ]
        }
      ]
    },
    {
      "cell_type": "markdown",
      "source": [
        "### 결과 설명"
      ],
      "metadata": {
        "id": "o3uxLJSxTKHN"
      }
    },
    {
      "cell_type": "markdown",
      "source": [
        "```\n",
        "user_proxy (to market_researcher):\n",
        "AI 기반 개인 맞춤형 건강 관리 웨어러블 디바이스에 대한 시장 조사 보고서를 작성해 주세요.\n",
        "```"
      ],
      "metadata": {
        "id": "6JpYON0lUaTM"
      }
    },
    {
      "cell_type": "markdown",
      "source": [
        "user_proxy가 market_researcher 에이전트에게 **“이 제품에 대한 시장 조사 보고서를 작성해 달라”**고 요청합니다.\n",
        "\n",
        "market_researcher는 “전문 시장 조사 전문가” 역할을 담당하도록 설정되어 있습니다.\n"
      ],
      "metadata": {
        "id": "mtgoH9msUaqu"
      }
    },
    {
      "cell_type": "markdown",
      "source": [
        "```\n",
        "market_researcher (to user_proxy):\n",
        "\n",
        "# AI 기반 개인 맞춤형 건강 관리 웨어러블 디바이스 시장 조사 보고서\n",
        "\n",
        "<내용 생략>\n",
        "\n",
        "--------------------------------------------------------------------------------\n",
        ">>>>>>>> TERMINATING RUN (...)\n",
        "```"
      ],
      "metadata": {
        "id": "pn6FCLUlUli1"
      }
    },
    {
      "cell_type": "markdown",
      "source": [
        "market_researcher가 user_proxy에게 시장 조사 보고서를 보내줍니다.\n",
        "\n",
        "보고서는 보통 다음과 같은 구조를 가지고 있습니다:\n",
        "\n",
        "개요: 제품이 어떤 기술(실시간 건강 데이터 수집, AI 분석 등)을 사용하는지 설명\n",
        "\n",
        "시장 동향: 성장 요인(건강 관심 증가, AI 기술 발전 등), 제약 요인(개인정보 문제, 고비용, 기술적 한계)\n",
        "\n",
        "시장 분석: 시장 규모(예: 2023년 약 100억 달러), 주요 시장 세그먼트(스마트워치, 피트니스 트래커 등), 경쟁 분석(Apple, Fitbit 등)\n",
        "\n",
        "소비자 행동 분석: 소비자들이 무엇을 중요시하고(사용자 친화성, 디자인, 가격 등), 어디서 주로 구매하는지(온라인, 오프라인)\n",
        "\n",
        "결론 및 전망: 향후 시장이 빠르게 성장할 것이며, 개인정보 보호 문제 등 해결과제가 있다는 요지\n",
        "\n",
        "이렇게 시장 조사 전문가가 준 결과는 market_research_result라는 변수에 저장됩니다."
      ],
      "metadata": {
        "id": "3KFtMh8gUsi8"
      }
    },
    {
      "cell_type": "markdown",
      "source": [
        "```\n",
        "user_proxy (to customer_segmentation_expert):\n",
        "다음 시장 조사 결과를 바탕으로 고객 세분화 보고서를 작성해 주세요: <시장 조사 결과 전문>\n",
        "```"
      ],
      "metadata": {
        "id": "T4sXtBxjUxQL"
      }
    },
    {
      "cell_type": "markdown",
      "source": [
        "이제 market_research_result(첫 번째 단계에서 작성된 보고서)를 customer_segmentation_expert 에이전트에게 전달하면서, **“이 결과를 참고해 고객 세분화 보고서를 작성해 달라”**고 요청합니다.\n",
        "\n",
        "customer_segmentation_expert는 “고객 세분화 전문가” 역할을 수행하도록 설정되어 있습니다."
      ],
      "metadata": {
        "id": "qa1TFDQ3U6AN"
      }
    },
    {
      "cell_type": "markdown",
      "source": [
        "```\n",
        "customer_segmentation_expert (to user_proxy):\n",
        "\n",
        "# 고객 세분화 보고서: AI 기반 개인 맞춤형 건강 관리 웨어러블 디바이스\n",
        "\n",
        "<내용 생략>\n",
        "\n",
        "--------------------------------------------------------------------------------\n",
        ">>>>>>>> TERMINATING RUN (...)\n",
        "```"
      ],
      "metadata": {
        "id": "C9TixSaFU9DE"
      }
    },
    {
      "cell_type": "markdown",
      "source": [
        "고객 세분화 전문가가 고객 세분화 보고서를 작성해 전달합니다.\n",
        "\n",
        "보고서 내용의 대표적 구성은 다음과 같습니다:\n",
        "\n",
        "인구통계적 세분화(연령대, 소득 수준)\n",
        "\n",
        "예: 밀레니얼 세대(25-40세), X세대(41-56세), 시니어(57세 이상) 등\n",
        "\n",
        "심리적 세분화(건강&웰빙 중시, 기술민감도)\n",
        "\n",
        "행동적 세분화(사용 빈도, 구매 경로)\n",
        "\n",
        "주요 세그먼트 요약: 피트니스 애호가, 건강 관리 필요자, 기술 선도자 등\n",
        "\n",
        "결론: 세분화별로 어느 부분에 집중해야 할지, 어떤 특성이 중요한지\n",
        "\n",
        "이 결과는 customer_segmentation_result라는 변수에 저장됩니다."
      ],
      "metadata": {
        "id": "TeYcLN7UVCrt"
      }
    },
    {
      "cell_type": "markdown",
      "source": [
        "```\n",
        "user_proxy (to marketing_strategist):\n",
        "다음 정보를 바탕으로 종합적인 마케팅 전략을 수립해 주세요:\n",
        "시장 조사: <market_research_result>\n",
        "고객 세분화: <customer_segmentation_result>\n",
        "```"
      ],
      "metadata": {
        "id": "zjXtmn-PVFfW"
      }
    },
    {
      "cell_type": "markdown",
      "source": [
        "이전 단계들에서 얻은 시장 조사 결과와 고객 세분화 결과를 한꺼번에 marketing_strategist 에이전트에게 전달하면서, 마케팅 전략을 요청합니다.\n",
        "\n",
        "marketing_strategist는 “최고의 마케팅 전략 전문가” 역할을 맡고 있습니다."
      ],
      "metadata": {
        "id": "JfmnnRXqVKTE"
      }
    },
    {
      "cell_type": "markdown",
      "source": [
        "```\n",
        "marketing_strategist (to user_proxy):\n",
        "\n",
        "AI 기반 개인 맞춤형 건강 관리 웨어러블 디바이스 시장의 성장 가능성과 고객 세분화 정보를 바탕으로, 다음과 같은 종합적인 마케팅 전략을 제안합니다.\n",
        "\n",
        "<내용 생략>\n",
        "```"
      ],
      "metadata": {
        "id": "mY95et49VN5j"
      }
    },
    {
      "cell_type": "markdown",
      "source": [
        "“마케팅 전략 전문가”가 종합적인 마케팅 전략을 생성해 제공합니다.\n",
        "\n",
        "내용은 보통 다음과 같은 구조로 이루어집니다:\n",
        "\n",
        "목표 설정: 시장 점유율 목표, 브랜드 인지도 목표, 고객 충성도 목표 등 구체적인 수치 제시\n",
        "\n",
        "세분화된 고객별 마케팅 전략:\n",
        "\n",
        "피트니스 애호가, 건강 관리 필요자, 기술 선도자 등 각 타겟별로 서로 다른 채널, 메시지, 프로모션 전략\n",
        "\n",
        "가격 전략: 기본 모델 vs 프리미엄 모델, 할인, 패키지 프로모션 등\n",
        "\n",
        "유통 전략: 온라인 플랫폼(자사 웹사이트, Amazon 등), 오프라인 매장 제휴\n",
        "\n",
        "고객 피드백 및 데이터 분석: 설문조사, 빅데이터를 통한 지속적 개선\n",
        "\n",
        "지속 가능한 비즈니스 모델: 개인정보 보호, 친환경 소재 활용, 투명한 정책 등\n",
        "\n",
        "이 결과는 marketing_strategy_result라는 변수에 저장됩니다."
      ],
      "metadata": {
        "id": "9dao7WciVSZz"
      }
    },
    {
      "cell_type": "markdown",
      "source": [
        "### 4. 최종 결과 출력\n",
        "마지막으로 main() 함수에서는 다음 네 가지를 차례대로 출력합니다:\n",
        "\n",
        "제품 개념: AI 기반 개인 맞춤형 건강 관리 웨어러블 디바이스\n",
        "\n",
        "시장 조사 결과: market_research_result에 담긴 시장 조사 보고서\n",
        "\n",
        "고객 세분화: customer_segmentation_result에 담긴 세분화 보고서\n",
        "\n",
        "마케팅 전략: marketing_strategy_result에 담긴 최종 전략\n",
        "\n",
        "각 항목은 이미 위에서 설명한 전문의 내용을 포함하고 있으며, 최종 콘솔에 그대로 출력됩니다. 결과적으로 시장 조사 → 고객 세분화 → 마케팅 전략의 일련 과정을 모두 한 번에 살펴볼 수 있습니다."
      ],
      "metadata": {
        "id": "hFDBGzloVVzt"
      }
    },
    {
      "cell_type": "markdown",
      "source": [
        "### 전체 요약\n",
        "1단계(시장 조사 보고서): 제품과 시장환경(성장 동인, 제약, 시장 규모, 경쟁, 소비자 행동)을 종합적으로 분석한 결과.\n",
        "\n",
        "2단계(고객 세분화 보고서): 수집된 시장 정보를 바탕으로 인구통계학적, 심리적, 행동적 기준으로 고객을 세분화하고, 각 세그먼트의 특징을 정리.\n",
        "\n",
        "3단계(마케팅 전략 보고서): 시장 조사와 고객 세분화 정보를 결합하여 목표 설정, 가격/유통/프로모션 전략, 그리고 고객 피드백 및 지속 가능성 전략을 포함하는 종합적인 마케팅 계획을 제시.\n",
        "\n",
        "최종 콘솔 출력은 이러한 세 단계를 모두 거쳐 나온 보고서들의 전문을 순서대로 보여주며, “미래 유망 아이템 마케팅 전략 보고서”라는 제목 하에\n",
        "\n",
        "제품 개념, 2) 시장 조사 결과, 3) 고객 세분화, 4) 마케팅 전략\n",
        "을 최종적으로 확인."
      ],
      "metadata": {
        "id": "3XnU713AVbjr"
      }
    },
    {
      "cell_type": "code",
      "source": [],
      "metadata": {
        "id": "Q7qjhTV1Vlc2"
      },
      "execution_count": null,
      "outputs": []
    }
  ]
}