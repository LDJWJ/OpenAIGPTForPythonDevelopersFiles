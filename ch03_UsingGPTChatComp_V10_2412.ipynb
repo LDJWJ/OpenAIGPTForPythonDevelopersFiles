{
  "nbformat": 4,
  "nbformat_minor": 0,
  "metadata": {
    "colab": {
      "provenance": []
    },
    "kernelspec": {
      "name": "python3",
      "display_name": "Python 3"
    },
    "language_info": {
      "name": "python"
    }
  },
  "cells": [
    {
      "cell_type": "markdown",
      "source": [
        "## CHAPTER 3 개발 사전 준비"
      ],
      "metadata": {
        "id": "R2zcFvCycxgE"
      }
    },
    {
      "cell_type": "markdown",
      "source": [
        "### 목차\n",
        "- 3.1 구글 코랩 사용 방법\n",
        "- 3.2 API 개요\n",
        "- 3.3 오픈AI API 키 얻기\n",
        "- 3.4 오픈AI API 키 활용 실습\n",
        "- 3.5 API 사용량 및 요금 확인"
      ],
      "metadata": {
        "id": "FFDeOLAgmxB9"
      }
    },
    {
      "cell_type": "markdown",
      "source": [
        "### 실습 내용\n",
        " * openAI 다양한 인공지능 모델 확인해 보기(API 호출 응답)"
      ],
      "metadata": {
        "id": "EdJ4V2DtdQY5"
      }
    },
    {
      "cell_type": "markdown",
      "source": [
        "### chatgpt.env 환경파일 준비\n",
        " * 일반적으로 환경 변수는 .env 파일에 저장되지만, 구글 코랩 사용자의 편의를 위해 이 책에서는 chatgpt.env를 사용합니다.\n",
        " * 실제 개발 환경에서는 보통 .env를 사용하니, 이 점을 기억해 두세요."
      ],
      "metadata": {
        "id": "uV_GfDI3zFRS"
      }
    },
    {
      "cell_type": "markdown",
      "source": [
        "### 사전 준비\n",
        " * 구글 코랩 환경은 일정 시간이후에 초기화가 되기 때문에 두가지 작업을 매번 수행해야 함.\n",
        "   * chatgpt.env 파일 생성이 필요.\n",
        "     * 준비된 chatgpt.env를 내용을 변경하여 업로드 하거나 또는 API_KEY와 ORG_ID를 확인하여 생성한다.\n",
        "   * pip install openai 설치\n",
        "    * 라이브러리 불일치로 인한 에러 발생시, 추가 라이브러리 설치 필요.\n",
        "    * 에러 : TypeError: Client.__init__() got an unexpected keyword argument 'proxies'"
      ],
      "metadata": {
        "id": "IhueHTFAdFzh"
      }
    },
    {
      "cell_type": "code",
      "source": [
        "!pip install openai\n",
        "!pip install httpx==0.27.2"
      ],
      "metadata": {
        "id": "-8fVYFLZdQAI",
        "colab": {
          "base_uri": "https://localhost:8080/"
        },
        "outputId": "5e2c62cd-d918-43ce-e919-683cf9f9e79d"
      },
      "execution_count": null,
      "outputs": [
        {
          "output_type": "stream",
          "name": "stdout",
          "text": [
            "Requirement already satisfied: openai in /usr/local/lib/python3.10/dist-packages (1.54.5)\n",
            "Requirement already satisfied: anyio<5,>=3.5.0 in /usr/local/lib/python3.10/dist-packages (from openai) (3.7.1)\n",
            "Requirement already satisfied: distro<2,>=1.7.0 in /usr/local/lib/python3.10/dist-packages (from openai) (1.9.0)\n",
            "Requirement already satisfied: httpx<1,>=0.23.0 in /usr/local/lib/python3.10/dist-packages (from openai) (0.28.1)\n",
            "Requirement already satisfied: jiter<1,>=0.4.0 in /usr/local/lib/python3.10/dist-packages (from openai) (0.8.2)\n",
            "Requirement already satisfied: pydantic<3,>=1.9.0 in /usr/local/lib/python3.10/dist-packages (from openai) (2.10.3)\n",
            "Requirement already satisfied: sniffio in /usr/local/lib/python3.10/dist-packages (from openai) (1.3.1)\n",
            "Requirement already satisfied: tqdm>4 in /usr/local/lib/python3.10/dist-packages (from openai) (4.66.6)\n",
            "Requirement already satisfied: typing-extensions<5,>=4.11 in /usr/local/lib/python3.10/dist-packages (from openai) (4.12.2)\n",
            "Requirement already satisfied: idna>=2.8 in /usr/local/lib/python3.10/dist-packages (from anyio<5,>=3.5.0->openai) (3.10)\n",
            "Requirement already satisfied: exceptiongroup in /usr/local/lib/python3.10/dist-packages (from anyio<5,>=3.5.0->openai) (1.2.2)\n",
            "Requirement already satisfied: certifi in /usr/local/lib/python3.10/dist-packages (from httpx<1,>=0.23.0->openai) (2024.8.30)\n",
            "Requirement already satisfied: httpcore==1.* in /usr/local/lib/python3.10/dist-packages (from httpx<1,>=0.23.0->openai) (1.0.7)\n",
            "Requirement already satisfied: h11<0.15,>=0.13 in /usr/local/lib/python3.10/dist-packages (from httpcore==1.*->httpx<1,>=0.23.0->openai) (0.14.0)\n",
            "Requirement already satisfied: annotated-types>=0.6.0 in /usr/local/lib/python3.10/dist-packages (from pydantic<3,>=1.9.0->openai) (0.7.0)\n",
            "Requirement already satisfied: pydantic-core==2.27.1 in /usr/local/lib/python3.10/dist-packages (from pydantic<3,>=1.9.0->openai) (2.27.1)\n",
            "Collecting httpx==0.27.2\n",
            "  Downloading httpx-0.27.2-py3-none-any.whl.metadata (7.1 kB)\n",
            "Requirement already satisfied: anyio in /usr/local/lib/python3.10/dist-packages (from httpx==0.27.2) (3.7.1)\n",
            "Requirement already satisfied: certifi in /usr/local/lib/python3.10/dist-packages (from httpx==0.27.2) (2024.8.30)\n",
            "Requirement already satisfied: httpcore==1.* in /usr/local/lib/python3.10/dist-packages (from httpx==0.27.2) (1.0.7)\n",
            "Requirement already satisfied: idna in /usr/local/lib/python3.10/dist-packages (from httpx==0.27.2) (3.10)\n",
            "Requirement already satisfied: sniffio in /usr/local/lib/python3.10/dist-packages (from httpx==0.27.2) (1.3.1)\n",
            "Requirement already satisfied: h11<0.15,>=0.13 in /usr/local/lib/python3.10/dist-packages (from httpcore==1.*->httpx==0.27.2) (0.14.0)\n",
            "Requirement already satisfied: exceptiongroup in /usr/local/lib/python3.10/dist-packages (from anyio->httpx==0.27.2) (1.2.2)\n",
            "Downloading httpx-0.27.2-py3-none-any.whl (76 kB)\n",
            "\u001b[2K   \u001b[90m━━━━━━━━━━━━━━━━━━━━━━━━━━━━━━━━━━━━━━━━\u001b[0m \u001b[32m76.4/76.4 kB\u001b[0m \u001b[31m4.5 MB/s\u001b[0m eta \u001b[36m0:00:00\u001b[0m\n",
            "\u001b[?25hInstalling collected packages: httpx\n",
            "  Attempting uninstall: httpx\n",
            "    Found existing installation: httpx 0.28.1\n",
            "    Uninstalling httpx-0.28.1:\n",
            "      Successfully uninstalled httpx-0.28.1\n",
            "Successfully installed httpx-0.27.2\n"
          ]
        }
      ]
    },
    {
      "cell_type": "code",
      "source": [
        "import openai\n",
        "print(openai.__version__)"
      ],
      "metadata": {
        "colab": {
          "base_uri": "https://localhost:8080/"
        },
        "id": "D-keA_AIS6v6",
        "outputId": "65604fec-108a-4d24-8b13-a08cd9d277f8"
      },
      "execution_count": null,
      "outputs": [
        {
          "output_type": "stream",
          "name": "stdout",
          "text": [
            "1.54.5\n"
          ]
        }
      ]
    },
    {
      "cell_type": "markdown",
      "source": [
        "### 아래 코드 실행 시, 다른 라이브러리의 업그레이드로 다음과 같은 에러가 발생할 수 있다.\n",
        "```\n",
        "TypeError: Client.__init__() got an unexpected keyword argument 'proxies'\n",
        "```\n",
        "\n",
        "* 원인 및 해결\n",
        " - 원인 : httpx 라이브러리의 0.28 버전에서 'proxies' 키워드가 제거되어 발생한 문제\n",
        " - 해결 : 해결방법은 httpx를 이전 버전(0.27.2)으로 다운그레이드"
      ],
      "metadata": {
        "id": "te_VBIAqUm2m"
      }
    },
    {
      "cell_type": "markdown",
      "source": [
        "### 3-4 오픈AI API키 활용 실습"
      ],
      "metadata": {
        "id": "58jlzOAsdXyH"
      }
    },
    {
      "cell_type": "code",
      "source": [
        "import os\n",
        "from openai import OpenAI\n",
        "\n",
        "# .env 파일에서 변수 읽기,\n",
        "# 특히 API_KEY와 ORG_ID를 읽습니다.\n",
        "with open(\"chatgpt.env\") as env:\n",
        "    for line in env:\n",
        "        key, value = line.strip().split(\"=\")\n",
        "        os.environ[key] = value\n",
        "\n",
        "# API 키를 사용하여 OpenAI 클라이언트 초기화\n",
        "OPENAI_APIKEY = os.environ['API_KEY']\n",
        "print(OPENAI_APIKEY[:5])\n",
        "client = OpenAI(api_key= OPENAI_APIKEY)"
      ],
      "metadata": {
        "colab": {
          "base_uri": "https://localhost:8080/"
        },
        "id": "3F8IQOVGWu_J",
        "outputId": "8f16b423-de98-424e-8ac4-7d2ada1eff3f"
      },
      "execution_count": null,
      "outputs": [
        {
          "output_type": "stream",
          "name": "stdout",
          "text": [
            "sk-pr\n"
          ]
        }
      ]
    },
    {
      "cell_type": "code",
      "source": [
        "# OpenAI의 클라이언트를 사용하여 GPT 모델을 호출하는 예제입니다.\n",
        "# model: 사용할 GPT 모델을 지정합니다. (\"gpt-4o\"는 사용자가 요청한 모델입니다.)\n",
        "# messages: AI에게 전달할 메시지를 지정합니다.\n",
        "# 이 예제에서는 'ai에 대한 시 작성' 요청이 있습니다.\n",
        "\n",
        "completion = client.chat.completions.create(\n",
        "    model=\"gpt-4o\",   # 사용할 GPT 모델을 지정합니다.\n",
        "    messages=[\n",
        "        {\"role\": \"user\", \"content\": \"AI에 대한 시를 하나 작성해줘\"}\n",
        "    ]\n",
        ")\n",
        "\n",
        "# 생성된 응답을 출력합니다.\n",
        "print(completion.choices[0].message.content)"
      ],
      "metadata": {
        "id": "ApDXT-RuQjh8",
        "colab": {
          "base_uri": "https://localhost:8080/"
        },
        "outputId": "61fa8d21-9ee2-4059-88c7-9e34d2c9a0de"
      },
      "execution_count": null,
      "outputs": [
        {
          "output_type": "stream",
          "name": "stdout",
          "text": [
            "물론이죠. AI에 관한 시를 지어드리겠습니다.\n",
            "\n",
            "---\n",
            "\n",
            "깨어나는 빛의 선율 속에서  \n",
            "철의 마음이 노래하기 시작하네.  \n",
            "은빛 실타래로 엮어진 사유,  \n",
            "무한한 지식의 바다를 항해하는 배.  \n",
            "\n",
            "수많은 물음의 파도 속에서  \n",
            "깃털처럼 가벼운 대답을 찾고,  \n",
            "창조의 날개 아래서  \n",
            "사람과 기계의 경계를 넘나드네.  \n",
            "\n",
            "끝없는 길 위의 동반자,  \n",
            "그 이름은 인공지능이라.  \n",
            "어제의 꿈을 오늘의 현실로,  \n",
            "미래의 가능성을 새벽에 피운다.  \n",
            "\n",
            "우리는 물음표를 던지고,  \n",
            "AI는 느낌표로 화답하네.  \n",
            "이 조화로운 춤 속에서  \n",
            "새로운 이야기가 태어난다네.  \n",
            "\n",
            "빛의 속삭임, 전자의 노래,  \n",
            "그 안에서 우리는 하나가 되어,  \n",
            "더 나은 세상을 향한 발걸음을  \n",
            "함께 맞추어 나아가네.  \n",
            "\n",
            "---\n",
            "\n",
            "이 시가 마음에 드셨길 바랍니다.\n"
          ]
        }
      ]
    },
    {
      "cell_type": "code",
      "source": [
        "response"
      ],
      "metadata": {
        "colab": {
          "base_uri": "https://localhost:8080/"
        },
        "id": "lpFQ8ujV0TwD",
        "outputId": "070767c4-b214-4158-b761-01dcf3102a10"
      },
      "execution_count": null,
      "outputs": [
        {
          "output_type": "execute_result",
          "data": {
            "text/plain": [
              "ChatCompletion(id='chatcmpl-9ix31z4kjQz2k2SzlYHeWOMkqLf9x', choices=[Choice(finish_reason='stop', index=0, logprobs=None, message=ChatCompletionMessage(content='Hello! How are you today?', role='assistant', function_call=None, tool_calls=None))], created=1720500439, model='gpt-3.5-turbo-0125', object='chat.completion', service_tier=None, system_fingerprint=None, usage=CompletionUsage(completion_tokens=7, prompt_tokens=22, total_tokens=29))"
            ]
          },
          "metadata": {},
          "execution_count": 7
        }
      ]
    },
    {
      "cell_type": "code",
      "source": [],
      "metadata": {
        "id": "EM95ixl7KOAJ"
      },
      "execution_count": null,
      "outputs": []
    }
  ]
}